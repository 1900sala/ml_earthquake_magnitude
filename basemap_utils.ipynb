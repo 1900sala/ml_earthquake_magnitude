{
 "cells": [
  {
   "cell_type": "code",
   "execution_count": null,
   "metadata": {},
   "outputs": [],
   "source": [
    "import gzip\n",
    "\n",
    "import numpy as np\n",
    "import matplotlib.pyplot as plt\n",
    "from mpl_toolkits.basemap import Basemap\n",
    "\n",
    "from obspy.imaging.beachball import beach"
   ]
  },
  {
   "cell_type": "code",
   "execution_count": null,
   "metadata": {},
   "outputs": [],
   "source": [
    "with gzip.open(\"srtm_1240-1300E_4740-4750N.asc.gz\") as fp:\n",
    "    srtm = np.loadtxt(fp, skiprows=8)"
   ]
  },
  {
   "cell_type": "code",
   "execution_count": null,
   "metadata": {},
   "outputs": [],
   "source": [
    "srtm"
   ]
  },
  {
   "cell_type": "code",
   "execution_count": null,
   "metadata": {},
   "outputs": [],
   "source": [
    "lats = np.linspace(47.8333, 47.6666, srtm.shape[0])\n",
    "lons = np.linspace(12.6666, 13.0000, srtm.shape[1])\n",
    "\n",
    "# create Basemap instance with Mercator projection\n",
    "# we want a slightly smaller region than covered by our SRTM data\n",
    "m = Basemap(projection='lcc', lon_0=13, lat_0=48, resolution=\"h\",\n",
    "            llcrnrlon=12.75, llcrnrlat=47.69, urcrnrlon=12.95, urcrnrlat=47.81)\n",
    "\n",
    "# create grids and compute map projection coordinates for lon/lat grid\n",
    "x, y = m(*np.meshgrid(lons, lats))\n",
    "\n",
    "# Make contour plot\n",
    "cs = m.contour(x, y, srtm, 40, colors=\"k\", lw=0.5, alpha=0.3)\n",
    "m.drawcountries(color=\"red\", linewidth=1)\n",
    "\n",
    "# Draw a lon/lat grid (20 lines for an interval of one degree)\n",
    "m.drawparallels(np.linspace(47, 48, 21), labels=[1, 1, 0, 0], fmt=\"%.2f\",\n",
    "                dashes=[2, 2])\n",
    "m.drawmeridians(np.linspace(12, 13, 21), labels=[0, 0, 1, 1], fmt=\"%.2f\",\n",
    "                dashes=[2, 2])\n",
    "\n",
    "# Plot station positions and names into the map\n",
    "# again we have to compute the projection of our lon/lat values\n",
    "lats = [47.761659, 47.7405, 47.755100, 47.737167]\n",
    "lons = [12.864466, 12.8671, 12.849660, 12.795714]\n",
    "names = [\" RMOA\", \" RNON\", \" RTSH\", \" RJOB\"]\n",
    "x, y = m(lons, lats)\n",
    "m.scatter(x, y, 200, color=\"r\", marker=\"v\", edgecolor=\"k\", zorder=3)\n",
    "for i in range(len(names)):\n",
    "    plt.text(x[i], y[i], names[i], va=\"top\", family=\"monospace\", weight=\"bold\")\n",
    "\n",
    "# Add beachballs for two events\n",
    "lats = [47.751602, 47.75577]\n",
    "lons = [12.866492, 12.893850]\n",
    "x, y = m(lons, lats)\n",
    "# Two focal mechanisms for beachball routine, specified as [strike, dip, rake]\n",
    "focmecs = [[80, 50, 80], [85, 30, 90]]\n",
    "ax = plt.gca()\n",
    "for i in range(len(focmecs)):\n",
    "    b = beach(focmecs[i], xy=(x[i], y[i]), width=1000, linewidth=1)\n",
    "    b.set_zorder(10)\n",
    "    ax.add_collection(b)\n",
    "\n",
    "plt.show()"
   ]
  },
  {
   "cell_type": "code",
   "execution_count": null,
   "metadata": {},
   "outputs": [],
   "source": [
    "from mpl_toolkits.basemap import Basemap\n",
    "import matplotlib.pyplot as plt\n",
    "# setup Lambert Conformal basemap.\n",
    "# set resolution=None to skip processing of boundary datasets.\n",
    "m = Basemap(width=12000000,height=9000000,projection='lcc',\n",
    "            resolution=None,lat_1=45.,lat_2=55,lat_0=50,lon_0=-107.)\n",
    "# draw a land-sea mask for a map background.\n",
    "# lakes=True means plot inland lakes with ocean color.\n",
    "m.drawlsmask(land_color='coral',ocean_color='aqua',lakes=True)\n",
    "plt.show()"
   ]
  },
  {
   "cell_type": "code",
   "execution_count": null,
   "metadata": {},
   "outputs": [],
   "source": [
    "from mpl_toolkits.basemap import Basemap\n",
    "import matplotlib.pyplot as plt\n",
    "\n",
    "map = Basemap(projection = 'aeqd', lat_0 = 0, lon_0 = 90,\n",
    "width = 10000000,height = 10000000.)\n",
    "\n",
    "map.drawmapboundary(fill_color = 'aqua')\n",
    "map.fillcontinents(color = 'coral', lake_color = 'aqua')\n",
    "map.drawcoastlines()\n",
    "\n",
    "for i in range(0, 10000000, 1000000):\n",
    "    map.plot(i, i, marker = 'o', color = 'k')\n",
    "\n",
    "plt.show()"
   ]
  },
  {
   "cell_type": "code",
   "execution_count": null,
   "metadata": {},
   "outputs": [],
   "source": [
    ""
   ]
  },
  {
   "cell_type": "code",
   "execution_count": null,
   "metadata": {},
   "outputs": [],
   "source": [
    ""
   ]
  }
 ],
 "metadata": {
  "kernelspec": {
   "display_name": "Python 3",
   "language": "python",
   "name": "python3"
  },
  "language_info": {
   "codemirror_mode": {
    "name": "ipython",
    "version": 3.0
   },
   "file_extension": ".py",
   "mimetype": "text/x-python",
   "name": "python",
   "nbconvert_exporter": "python",
   "pygments_lexer": "ipython3",
   "version": "3.5.3"
  }
 },
 "nbformat": 4,
 "nbformat_minor": 0
}